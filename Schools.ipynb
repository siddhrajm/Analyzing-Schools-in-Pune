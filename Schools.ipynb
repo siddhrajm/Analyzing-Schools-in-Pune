{
 "cells": [
  {
   "cell_type": "code",
   "execution_count": 17,
   "metadata": {},
   "outputs": [],
   "source": [
    "import pandas as pd\n",
    "import numpy as np\n",
    "\n",
    "%matplotlib inline\n",
    "import matplotlib.pyplot as plt\n"
   ]
  },
  {
   "cell_type": "code",
   "execution_count": 46,
   "metadata": {},
   "outputs": [],
   "source": [
    "school_data = pd.read_csv(\"C:/Users/Sddhraj/Downloads/Pune-D22A-SchoolEnrollmentDetails_0.csv\")"
   ]
  },
  {
   "cell_type": "code",
   "execution_count": 47,
   "metadata": {},
   "outputs": [
    {
     "data": {
      "text/html": [
       "<div>\n",
       "<style scoped>\n",
       "    .dataframe tbody tr th:only-of-type {\n",
       "        vertical-align: middle;\n",
       "    }\n",
       "\n",
       "    .dataframe tbody tr th {\n",
       "        vertical-align: top;\n",
       "    }\n",
       "\n",
       "    .dataframe thead th {\n",
       "        text-align: right;\n",
       "    }\n",
       "</style>\n",
       "<table border=\"1\" class=\"dataframe\">\n",
       "  <thead>\n",
       "    <tr style=\"text-align: right;\">\n",
       "      <th></th>\n",
       "      <th>Dise No.</th>\n",
       "      <th>Rural / Urban</th>\n",
       "      <th>Year</th>\n",
       "      <th>Block Code</th>\n",
       "      <th>Block Name</th>\n",
       "      <th>Village Code</th>\n",
       "      <th>Village Name</th>\n",
       "      <th>Zonal Office</th>\n",
       "      <th>CRC Code</th>\n",
       "      <th>CRC No.</th>\n",
       "      <th>...</th>\n",
       "      <th>6_8 Total</th>\n",
       "      <th>1_8 Boys</th>\n",
       "      <th>1_8 Girls</th>\n",
       "      <th>1_8 Total</th>\n",
       "      <th>9_12 Boys</th>\n",
       "      <th>9_12 Girls</th>\n",
       "      <th>9_12 Total</th>\n",
       "      <th>1_12 Boys</th>\n",
       "      <th>1_12 Girls</th>\n",
       "      <th>1_12 Total</th>\n",
       "    </tr>\n",
       "  </thead>\n",
       "  <tbody>\n",
       "    <tr>\n",
       "      <th>0</th>\n",
       "      <td>27251400101</td>\n",
       "      <td>Urban</td>\n",
       "      <td>2012-13</td>\n",
       "      <td>272514</td>\n",
       "      <td>Aundh</td>\n",
       "      <td>272514001</td>\n",
       "      <td>AUNDH GAON</td>\n",
       "      <td>Aundh</td>\n",
       "      <td>2725140001</td>\n",
       "      <td>Aundh CRC No. 1</td>\n",
       "      <td>...</td>\n",
       "      <td>0</td>\n",
       "      <td>120</td>\n",
       "      <td>128</td>\n",
       "      <td>248</td>\n",
       "      <td>0</td>\n",
       "      <td>0</td>\n",
       "      <td>0</td>\n",
       "      <td>120</td>\n",
       "      <td>128</td>\n",
       "      <td>248</td>\n",
       "    </tr>\n",
       "    <tr>\n",
       "      <th>1</th>\n",
       "      <td>27251400102</td>\n",
       "      <td>Urban</td>\n",
       "      <td>2012-13</td>\n",
       "      <td>272514</td>\n",
       "      <td>Aundh</td>\n",
       "      <td>272514001</td>\n",
       "      <td>AUNDH GAON</td>\n",
       "      <td>Aundh</td>\n",
       "      <td>2725140001</td>\n",
       "      <td>Aundh CRC No. 1</td>\n",
       "      <td>...</td>\n",
       "      <td>125</td>\n",
       "      <td>0</td>\n",
       "      <td>296</td>\n",
       "      <td>296</td>\n",
       "      <td>0</td>\n",
       "      <td>0</td>\n",
       "      <td>0</td>\n",
       "      <td>0</td>\n",
       "      <td>296</td>\n",
       "      <td>296</td>\n",
       "    </tr>\n",
       "    <tr>\n",
       "      <th>2</th>\n",
       "      <td>27251400103</td>\n",
       "      <td>Urban</td>\n",
       "      <td>2012-13</td>\n",
       "      <td>272514</td>\n",
       "      <td>Aundh</td>\n",
       "      <td>272514001</td>\n",
       "      <td>AUNDH GAON</td>\n",
       "      <td>Aundh</td>\n",
       "      <td>2725140001</td>\n",
       "      <td>Aundh CRC No. 1</td>\n",
       "      <td>...</td>\n",
       "      <td>111</td>\n",
       "      <td>283</td>\n",
       "      <td>0</td>\n",
       "      <td>283</td>\n",
       "      <td>0</td>\n",
       "      <td>0</td>\n",
       "      <td>0</td>\n",
       "      <td>283</td>\n",
       "      <td>0</td>\n",
       "      <td>283</td>\n",
       "    </tr>\n",
       "    <tr>\n",
       "      <th>3</th>\n",
       "      <td>27251400104</td>\n",
       "      <td>Urban</td>\n",
       "      <td>2012-13</td>\n",
       "      <td>272514</td>\n",
       "      <td>Aundh</td>\n",
       "      <td>272514001</td>\n",
       "      <td>AUNDH GAON</td>\n",
       "      <td>Aundh</td>\n",
       "      <td>2725140001</td>\n",
       "      <td>Aundh CRC No. 1</td>\n",
       "      <td>...</td>\n",
       "      <td>0</td>\n",
       "      <td>34</td>\n",
       "      <td>34</td>\n",
       "      <td>68</td>\n",
       "      <td>0</td>\n",
       "      <td>0</td>\n",
       "      <td>0</td>\n",
       "      <td>34</td>\n",
       "      <td>34</td>\n",
       "      <td>68</td>\n",
       "    </tr>\n",
       "    <tr>\n",
       "      <th>4</th>\n",
       "      <td>27251400105</td>\n",
       "      <td>Urban</td>\n",
       "      <td>2012-13</td>\n",
       "      <td>272514</td>\n",
       "      <td>Aundh</td>\n",
       "      <td>272514001</td>\n",
       "      <td>AUNDH GAON</td>\n",
       "      <td>Aundh</td>\n",
       "      <td>2725140001</td>\n",
       "      <td>Aundh CRC No. 1</td>\n",
       "      <td>...</td>\n",
       "      <td>0</td>\n",
       "      <td>78</td>\n",
       "      <td>79</td>\n",
       "      <td>157</td>\n",
       "      <td>0</td>\n",
       "      <td>0</td>\n",
       "      <td>0</td>\n",
       "      <td>78</td>\n",
       "      <td>79</td>\n",
       "      <td>157</td>\n",
       "    </tr>\n",
       "  </tbody>\n",
       "</table>\n",
       "<p>5 rows × 78 columns</p>\n",
       "</div>"
      ],
      "text/plain": [
       "      Dise No. Rural / Urban     Year  Block Code Block Name  Village Code  \\\n",
       "0  27251400101         Urban  2012-13      272514      Aundh     272514001   \n",
       "1  27251400102         Urban  2012-13      272514      Aundh     272514001   \n",
       "2  27251400103         Urban  2012-13      272514      Aundh     272514001   \n",
       "3  27251400104         Urban  2012-13      272514      Aundh     272514001   \n",
       "4  27251400105         Urban  2012-13      272514      Aundh     272514001   \n",
       "\n",
       "  Village Name Zonal Office    CRC Code          CRC No.  ...  6_8 Total  \\\n",
       "0   AUNDH GAON        Aundh  2725140001  Aundh CRC No. 1  ...          0   \n",
       "1   AUNDH GAON        Aundh  2725140001  Aundh CRC No. 1  ...        125   \n",
       "2   AUNDH GAON        Aundh  2725140001  Aundh CRC No. 1  ...        111   \n",
       "3   AUNDH GAON        Aundh  2725140001  Aundh CRC No. 1  ...          0   \n",
       "4   AUNDH GAON        Aundh  2725140001  Aundh CRC No. 1  ...          0   \n",
       "\n",
       "  1_8 Boys  1_8 Girls 1_8 Total  9_12 Boys 9_12 Girls  9_12 Total 1_12 Boys  \\\n",
       "0      120        128       248          0          0           0       120   \n",
       "1        0        296       296          0          0           0         0   \n",
       "2      283          0       283          0          0           0       283   \n",
       "3       34         34        68          0          0           0        34   \n",
       "4       78         79       157          0          0           0        78   \n",
       "\n",
       "   1_12 Girls 1_12 Total  \n",
       "0         128        248  \n",
       "1         296        296  \n",
       "2           0        283  \n",
       "3          34         68  \n",
       "4          79        157  \n",
       "\n",
       "[5 rows x 78 columns]"
      ]
     },
     "execution_count": 47,
     "metadata": {},
     "output_type": "execute_result"
    }
   ],
   "source": [
    "school_data.head()"
   ]
  },
  {
   "cell_type": "code",
   "execution_count": 48,
   "metadata": {},
   "outputs": [],
   "source": [
    "dataset=school_data[[\"Rural / Urban\",\"Village Name\",\"School Name\",\"Medium\",\"School Status\",\"Category Code\",\"Category Name\",\"School Type Code\",\"School Type Name\"]]"
   ]
  },
  {
   "cell_type": "code",
   "execution_count": 49,
   "metadata": {},
   "outputs": [
    {
     "data": {
      "text/html": [
       "<div>\n",
       "<style scoped>\n",
       "    .dataframe tbody tr th:only-of-type {\n",
       "        vertical-align: middle;\n",
       "    }\n",
       "\n",
       "    .dataframe tbody tr th {\n",
       "        vertical-align: top;\n",
       "    }\n",
       "\n",
       "    .dataframe thead th {\n",
       "        text-align: right;\n",
       "    }\n",
       "</style>\n",
       "<table border=\"1\" class=\"dataframe\">\n",
       "  <thead>\n",
       "    <tr style=\"text-align: right;\">\n",
       "      <th></th>\n",
       "      <th>Rural / Urban</th>\n",
       "      <th>Village Name</th>\n",
       "      <th>School Name</th>\n",
       "      <th>Medium</th>\n",
       "      <th>School Status</th>\n",
       "      <th>Category Code</th>\n",
       "      <th>Category Name</th>\n",
       "      <th>School Type Code</th>\n",
       "      <th>School Type Name</th>\n",
       "    </tr>\n",
       "  </thead>\n",
       "  <tbody>\n",
       "    <tr>\n",
       "      <th>0</th>\n",
       "      <td>Urban</td>\n",
       "      <td>AUNDH GAON</td>\n",
       "      <td>P. M. C. 54 B</td>\n",
       "      <td>Marathi</td>\n",
       "      <td>Operational</td>\n",
       "      <td>1</td>\n",
       "      <td>Primary</td>\n",
       "      <td>3</td>\n",
       "      <td>Co-Education</td>\n",
       "    </tr>\n",
       "    <tr>\n",
       "      <th>1</th>\n",
       "      <td>Urban</td>\n",
       "      <td>AUNDH GAON</td>\n",
       "      <td>P. M. C. 42 G</td>\n",
       "      <td>Marathi</td>\n",
       "      <td>Operational</td>\n",
       "      <td>2</td>\n",
       "      <td>Primary with Upper Primary</td>\n",
       "      <td>2</td>\n",
       "      <td>Girls</td>\n",
       "    </tr>\n",
       "    <tr>\n",
       "      <th>2</th>\n",
       "      <td>Urban</td>\n",
       "      <td>AUNDH GAON</td>\n",
       "      <td>P. M. C. 87  B</td>\n",
       "      <td>Marathi</td>\n",
       "      <td>Operational</td>\n",
       "      <td>2</td>\n",
       "      <td>Primary with Upper Primary</td>\n",
       "      <td>1</td>\n",
       "      <td>Boys</td>\n",
       "    </tr>\n",
       "    <tr>\n",
       "      <th>3</th>\n",
       "      <td>Urban</td>\n",
       "      <td>AUNDH GAON</td>\n",
       "      <td>PMC 54 B ENG</td>\n",
       "      <td>English</td>\n",
       "      <td>Operational</td>\n",
       "      <td>1</td>\n",
       "      <td>Primary</td>\n",
       "      <td>3</td>\n",
       "      <td>Co-Education</td>\n",
       "    </tr>\n",
       "    <tr>\n",
       "      <th>4</th>\n",
       "      <td>Urban</td>\n",
       "      <td>AUNDH GAON</td>\n",
       "      <td>RAYAT SHIKSHAN SANSTHA PRI.</td>\n",
       "      <td>Marathi</td>\n",
       "      <td>Operational</td>\n",
       "      <td>1</td>\n",
       "      <td>Primary</td>\n",
       "      <td>3</td>\n",
       "      <td>Co-Education</td>\n",
       "    </tr>\n",
       "  </tbody>\n",
       "</table>\n",
       "</div>"
      ],
      "text/plain": [
       "  Rural / Urban Village Name                  School Name   Medium  \\\n",
       "0         Urban   AUNDH GAON                P. M. C. 54 B  Marathi   \n",
       "1         Urban   AUNDH GAON                P. M. C. 42 G  Marathi   \n",
       "2         Urban   AUNDH GAON               P. M. C. 87  B  Marathi   \n",
       "3         Urban   AUNDH GAON                 PMC 54 B ENG  English   \n",
       "4         Urban   AUNDH GAON  RAYAT SHIKSHAN SANSTHA PRI.  Marathi   \n",
       "\n",
       "  School Status  Category Code               Category Name  School Type Code  \\\n",
       "0   Operational              1                     Primary                 3   \n",
       "1   Operational              2  Primary with Upper Primary                 2   \n",
       "2   Operational              2  Primary with Upper Primary                 1   \n",
       "3   Operational              1                     Primary                 3   \n",
       "4   Operational              1                     Primary                 3   \n",
       "\n",
       "  School Type Name  \n",
       "0     Co-Education  \n",
       "1            Girls  \n",
       "2             Boys  \n",
       "3     Co-Education  \n",
       "4     Co-Education  "
      ]
     },
     "execution_count": 49,
     "metadata": {},
     "output_type": "execute_result"
    }
   ],
   "source": [
    "dataset.head()"
   ]
  },
  {
   "cell_type": "code",
   "execution_count": 50,
   "metadata": {},
   "outputs": [
    {
     "data": {
      "text/plain": [
       "(6077, 9)"
      ]
     },
     "execution_count": 50,
     "metadata": {},
     "output_type": "execute_result"
    }
   ],
   "source": [
    "dataset.shape"
   ]
  },
  {
   "cell_type": "code",
   "execution_count": 51,
   "metadata": {},
   "outputs": [
    {
     "data": {
      "text/html": [
       "<div>\n",
       "<style scoped>\n",
       "    .dataframe tbody tr th:only-of-type {\n",
       "        vertical-align: middle;\n",
       "    }\n",
       "\n",
       "    .dataframe tbody tr th {\n",
       "        vertical-align: top;\n",
       "    }\n",
       "\n",
       "    .dataframe thead th {\n",
       "        text-align: right;\n",
       "    }\n",
       "</style>\n",
       "<table border=\"1\" class=\"dataframe\">\n",
       "  <thead>\n",
       "    <tr style=\"text-align: right;\">\n",
       "      <th></th>\n",
       "      <th>Category Code</th>\n",
       "      <th>School Type Code</th>\n",
       "    </tr>\n",
       "  </thead>\n",
       "  <tbody>\n",
       "    <tr>\n",
       "      <th>count</th>\n",
       "      <td>6077.000000</td>\n",
       "      <td>6077.000000</td>\n",
       "    </tr>\n",
       "    <tr>\n",
       "      <th>mean</th>\n",
       "      <td>3.824420</td>\n",
       "      <td>2.878723</td>\n",
       "    </tr>\n",
       "    <tr>\n",
       "      <th>std</th>\n",
       "      <td>3.011161</td>\n",
       "      <td>0.422698</td>\n",
       "    </tr>\n",
       "    <tr>\n",
       "      <th>min</th>\n",
       "      <td>1.000000</td>\n",
       "      <td>0.000000</td>\n",
       "    </tr>\n",
       "    <tr>\n",
       "      <th>25%</th>\n",
       "      <td>2.000000</td>\n",
       "      <td>3.000000</td>\n",
       "    </tr>\n",
       "    <tr>\n",
       "      <th>50%</th>\n",
       "      <td>2.000000</td>\n",
       "      <td>3.000000</td>\n",
       "    </tr>\n",
       "    <tr>\n",
       "      <th>75%</th>\n",
       "      <td>7.000000</td>\n",
       "      <td>3.000000</td>\n",
       "    </tr>\n",
       "    <tr>\n",
       "      <th>max</th>\n",
       "      <td>11.000000</td>\n",
       "      <td>9.000000</td>\n",
       "    </tr>\n",
       "  </tbody>\n",
       "</table>\n",
       "</div>"
      ],
      "text/plain": [
       "       Category Code  School Type Code\n",
       "count    6077.000000       6077.000000\n",
       "mean        3.824420          2.878723\n",
       "std         3.011161          0.422698\n",
       "min         1.000000          0.000000\n",
       "25%         2.000000          3.000000\n",
       "50%         2.000000          3.000000\n",
       "75%         7.000000          3.000000\n",
       "max        11.000000          9.000000"
      ]
     },
     "execution_count": 51,
     "metadata": {},
     "output_type": "execute_result"
    }
   ],
   "source": [
    "dataset.describe()"
   ]
  },
  {
   "cell_type": "code",
   "execution_count": 52,
   "metadata": {},
   "outputs": [
    {
     "data": {
      "text/plain": [
       "Index(['Rural / Urban', 'Village Name', 'School Name', 'Medium',\n",
       "       'School Status', 'Category Code', 'Category Name', 'School Type Code',\n",
       "       'School Type Name'],\n",
       "      dtype='object')"
      ]
     },
     "execution_count": 52,
     "metadata": {},
     "output_type": "execute_result"
    }
   ],
   "source": [
    "dataset.columns"
   ]
  },
  {
   "cell_type": "code",
   "execution_count": 53,
   "metadata": {
    "scrolled": true
   },
   "outputs": [],
   "source": [
    "dataset = dataset.rename(columns={\"Rural / Urban\":\"Rural_Urban\",\"Village Name\":\"Area\", \"School Name\":\"School_Name\",\n",
    "       'School Status':\"School_Status\", \"Category Code\":\"Category_Code\", \"Category Name\":\"Category_Name\", \"School Type Code\":\"School_Type_Code\",\n",
    "       \"School Type Name\":\"School_Type_Name\"})"
   ]
  },
  {
   "cell_type": "markdown",
   "metadata": {},
   "source": [
    "df[df.name != 'Tina']"
   ]
  },
  {
   "cell_type": "code",
   "execution_count": 54,
   "metadata": {},
   "outputs": [
    {
     "data": {
      "text/plain": [
       "Index(['Rural_Urban', 'Area', 'School_Name', 'Medium', 'School_Status',\n",
       "       'Category_Code', 'Category_Name', 'School_Type_Code',\n",
       "       'School_Type_Name'],\n",
       "      dtype='object')"
      ]
     },
     "execution_count": 54,
     "metadata": {},
     "output_type": "execute_result"
    }
   ],
   "source": [
    "dataset.columns"
   ]
  },
  {
   "cell_type": "code",
   "execution_count": 55,
   "metadata": {
    "scrolled": true
   },
   "outputs": [
    {
     "data": {
      "text/plain": [
       "3    5530\n",
       "2     350\n",
       "1     195\n",
       "9       1\n",
       "0       1\n",
       "Name: School_Type_Code, dtype: int64"
      ]
     },
     "execution_count": 55,
     "metadata": {},
     "output_type": "execute_result"
    }
   ],
   "source": [
    "dataset['School_Type_Code'].value_counts()"
   ]
  },
  {
   "cell_type": "markdown",
   "metadata": {},
   "source": [
    "Here 0 and 9 are missing values so we will remove the rows which have 0 and 9 in School Type code"
   ]
  },
  {
   "cell_type": "code",
   "execution_count": 58,
   "metadata": {},
   "outputs": [],
   "source": [
    "dataset = dataset[dataset.School_Type_Code != 9]\n",
    "dataset = dataset[dataset.School_Type_Code != 0]"
   ]
  },
  {
   "cell_type": "code",
   "execution_count": 60,
   "metadata": {},
   "outputs": [
    {
     "data": {
      "text/plain": [
       "3    5530\n",
       "2     350\n",
       "1     195\n",
       "Name: School_Type_Code, dtype: int64"
      ]
     },
     "execution_count": 60,
     "metadata": {},
     "output_type": "execute_result"
    }
   ],
   "source": [
    "dataset['School_Type_Code'].value_counts()"
   ]
  },
  {
   "cell_type": "code",
   "execution_count": 61,
   "metadata": {},
   "outputs": [
    {
     "data": {
      "text/plain": [
       "Operational    5971\n",
       "Closed           72\n",
       "Merged           32\n",
       "Name: School_Status, dtype: int64"
      ]
     },
     "execution_count": 61,
     "metadata": {},
     "output_type": "execute_result"
    }
   ],
   "source": [
    "dataset['School_Status'].value_counts()"
   ]
  },
  {
   "cell_type": "markdown",
   "metadata": {},
   "source": [
    "WE will look into schools those are in operational and exclude Closed and Merged"
   ]
  },
  {
   "cell_type": "code",
   "execution_count": 62,
   "metadata": {},
   "outputs": [],
   "source": [
    "dataset = dataset[dataset.School_Status != \"Merged\"]"
   ]
  },
  {
   "cell_type": "code",
   "execution_count": 63,
   "metadata": {},
   "outputs": [],
   "source": [
    "dataset = dataset[dataset.School_Status != \"Closed\"]"
   ]
  },
  {
   "cell_type": "code",
   "execution_count": 64,
   "metadata": {},
   "outputs": [
    {
     "data": {
      "text/plain": [
       "Operational    5971\n",
       "Name: School_Status, dtype: int64"
      ]
     },
     "execution_count": 64,
     "metadata": {},
     "output_type": "execute_result"
    }
   ],
   "source": [
    "dataset['School_Status'].value_counts()"
   ]
  },
  {
   "cell_type": "markdown",
   "metadata": {},
   "source": [
    "Therefore we can see there are 5971 schools which are operational "
   ]
  },
  {
   "cell_type": "markdown",
   "metadata": {},
   "source": [
    "we will just see which area has how many operational schools"
   ]
  },
  {
   "cell_type": "code",
   "execution_count": 65,
   "metadata": {
    "scrolled": false
   },
   "outputs": [
    {
     "data": {
      "text/plain": [
       "KATRAJ                     250\n",
       "DHANORI                    210\n",
       "MITHA NAGAR                193\n",
       "POPULARNAGAR WARJE         160\n",
       "PRABHAT ROAD               152\n",
       "KALEPADAL MOHAMMADWADI     150\n",
       "K.E.M. HOSPITAL            131\n",
       "KHARADI                    130\n",
       "HADPASAR GAVTHAN           125\n",
       "RAILWAY STATION            119\n",
       "SUTARWADI PASHAN           117\n",
       "KONDHAWA BK                114\n",
       "KOREGAON PARK              114\n",
       "TILAKROAD LOKMANYA NAG     114\n",
       "W. S. SAINATHNAGAR         111\n",
       "AAMBEGAON PATHAR           109\n",
       "HINGNE S. S. SANSTHA       108\n",
       "RAUTBAUG DHANKAWADI        106\n",
       "SINHAGAD INST. WADGAON     102\n",
       "WADGAON DHAYARI            101\n",
       "VISHRANT WADI               98\n",
       "GOKHALE NAGAR               96\n",
       "NAGPUR CHAWL                94\n",
       "NARAYAN PETH NANA WADA      94\n",
       "K K MARKET                  91\n",
       "SADHANA VIDYALAY            89\n",
       "W. S. AADARSHNAGAR          86\n",
       "HARKA NAGAR RAJEWADI        83\n",
       "CITY POST GADIKHANA         81\n",
       "SALISBURY PARK              79\n",
       "                          ... \n",
       "ST WORKSHOP                 60\n",
       "D. MANGESHKAR HOSPITAL      60\n",
       "AAGAKHAN PALACE             56\n",
       "VEDBHAVAN                   56\n",
       "DECCAN GYMKHANA             55\n",
       "PUNE VIDYAPEETH             55\n",
       "AUNDH GAON                  54\n",
       "GEN. A. VAIDYA STEDIUM      52\n",
       "SHIVDARSHAN                 50\n",
       "PANDAVNAGAR                 49\n",
       "BOPODI                      49\n",
       "DOKE TALIM RAMOSHI GATE     49\n",
       "MUNDHAWA MAGARPATTA         48\n",
       "SHINDYANCHI CHHATRI         40\n",
       "LOHIYANAGAR                 40\n",
       "SATAV WADI                  39\n",
       "BALAJINAGAR                 39\n",
       "JUNA BAZAR                  39\n",
       "DATTAWADI                   37\n",
       "MARKET YARD                 36\n",
       "WARJE GAVTHAN               36\n",
       "TADIWALA ROAD               36\n",
       "SHIVTIRTHANAGAR             36\n",
       "DAHANUKAR COLONY            35\n",
       "PARMHANSNAGAR VANAZ CO      35\n",
       "BHARATI VIDYAPEETH          35\n",
       "SAHAKAR NAGAR               34\n",
       "WANWADI RAMTEKADI           32\n",
       "JANTA VASAHAT               25\n",
       "UPPER INDIRA NAGAR           5\n",
       "Name: Area, Length: 76, dtype: int64"
      ]
     },
     "execution_count": 65,
     "metadata": {},
     "output_type": "execute_result"
    }
   ],
   "source": [
    "dataset['Area'].value_counts()"
   ]
  },
  {
   "cell_type": "code",
   "execution_count": 66,
   "metadata": {},
   "outputs": [
    {
     "data": {
      "text/plain": [
       "Marathi     3060\n",
       "English     2492\n",
       "Urdu         339\n",
       "Hindi         39\n",
       "Gujarati      20\n",
       "Kannada       16\n",
       "Tamil          5\n",
       "Name: Medium, dtype: int64"
      ]
     },
     "execution_count": 66,
     "metadata": {},
     "output_type": "execute_result"
    }
   ],
   "source": [
    "dataset[\"Medium\"].value_counts()"
   ]
  },
  {
   "cell_type": "markdown",
   "metadata": {},
   "source": [
    "Now we will convert categorical variables 'Medium' and 'School Type Name'. For this we will use LabelEncoder."
   ]
  },
  {
   "cell_type": "code",
   "execution_count": 67,
   "metadata": {},
   "outputs": [],
   "source": [
    "from sklearn.preprocessing import LabelEncoder"
   ]
  },
  {
   "cell_type": "code",
   "execution_count": 68,
   "metadata": {},
   "outputs": [],
   "source": [
    "le = LabelEncoder()"
   ]
  },
  {
   "cell_type": "code",
   "execution_count": 70,
   "metadata": {},
   "outputs": [],
   "source": [
    "dataset[\"Medium\"] = le.fit_transform(dataset[\"Medium\"])"
   ]
  },
  {
   "cell_type": "code",
   "execution_count": 71,
   "metadata": {},
   "outputs": [
    {
     "data": {
      "text/plain": [
       "4    3060\n",
       "0    2492\n",
       "6     339\n",
       "2      39\n",
       "1      20\n",
       "3      16\n",
       "5       5\n",
       "Name: Medium, dtype: int64"
      ]
     },
     "execution_count": 71,
     "metadata": {},
     "output_type": "execute_result"
    }
   ],
   "source": [
    "dataset[\"Medium\"].value_counts()"
   ]
  },
  {
   "cell_type": "code",
   "execution_count": 72,
   "metadata": {},
   "outputs": [
    {
     "data": {
      "text/plain": [
       "3    5435\n",
       "2     346\n",
       "1     190\n",
       "Name: School_Type_Code, dtype: int64"
      ]
     },
     "execution_count": 72,
     "metadata": {},
     "output_type": "execute_result"
    }
   ],
   "source": [
    "dataset[\"School_Type_Code\"].value_counts()"
   ]
  },
  {
   "cell_type": "code",
   "execution_count": 75,
   "metadata": {},
   "outputs": [],
   "source": [
    "dataset.to_csv('processed_school_data.csv')"
   ]
  },
  {
   "cell_type": "code",
   "execution_count": 79,
   "metadata": {},
   "outputs": [
    {
     "data": {
      "text/plain": [
       "{0: Int64Index([   3,    5,    6,    7,    8,    9,   19,   20,   21,   22,\n",
       "             ...\n",
       "             6061, 6062, 6069, 6070, 6071, 6072, 6073, 6074, 6075, 6076],\n",
       "            dtype='int64', length=2492),\n",
       " 1: Int64Index([1006, 1007, 1081, 1082, 2195, 2196, 2271, 2272, 3422, 3423, 3494,\n",
       "             3495, 4652, 4653, 4726, 4727, 5898, 5899, 5972, 5973],\n",
       "            dtype='int64'),\n",
       " 2: Int64Index([ 375,  502,  508, 1016, 1019, 1022, 1060, 1061, 1679, 2204, 2206,\n",
       "             2207, 2210, 2248, 2249, 2756, 2883, 3431, 3433, 3434, 3437, 3472,\n",
       "             3473, 3984, 4110, 4662, 4664, 4665, 4668, 4704, 4705, 5226, 5352,\n",
       "             5908, 5910, 5911, 5914, 5950, 5951],\n",
       "            dtype='int64'),\n",
       " 3: Int64Index([ 145,  204, 1149, 1328, 1388, 2340, 2521, 2581, 3563, 3746, 3805,\n",
       "             3893, 4796, 4985, 5045, 6043],\n",
       "            dtype='int64'),\n",
       " 4: Int64Index([   0,    1,    2,    4,   10,   12,   13,   14,   15,   16,\n",
       "             ...\n",
       "             6044, 6045, 6046, 6047, 6063, 6064, 6065, 6066, 6067, 6068],\n",
       "            dtype='int64', length=3060),\n",
       " 5: Int64Index([1092, 2282, 3504, 4736, 5982], dtype='int64'),\n",
       " 6: Int64Index([  67,  292,  296,  300,  303,  304,  307,  308,  353,  369,\n",
       "             ...\n",
       "             5941, 5946, 5958, 5962, 5963, 5964, 5978, 5990, 5993, 6041],\n",
       "            dtype='int64', length=339)}"
      ]
     },
     "execution_count": 79,
     "metadata": {},
     "output_type": "execute_result"
    }
   ],
   "source": [
    "dataset.groupby(\"Medium\").groups"
   ]
  },
  {
   "cell_type": "markdown",
   "metadata": {},
   "source": [
    "grouped = dataset.groupby('Medium')"
   ]
  },
  {
   "cell_type": "markdown",
   "metadata": {},
   "source": [
    "eng_schools = grouped.get_group(0)"
   ]
  },
  {
   "cell_type": "markdown",
   "metadata": {},
   "source": [
    "count_eng = eng_schools[\"Area\"].value_counts()"
   ]
  },
  {
   "cell_type": "code",
   "execution_count": 3,
   "metadata": {},
   "outputs": [],
   "source": [
    "dataset = pd.read_csv(\"processed_school_data.csv\")"
   ]
  },
  {
   "cell_type": "code",
   "execution_count": 4,
   "metadata": {
    "scrolled": true
   },
   "outputs": [
    {
     "data": {
      "text/html": [
       "<div>\n",
       "<style scoped>\n",
       "    .dataframe tbody tr th:only-of-type {\n",
       "        vertical-align: middle;\n",
       "    }\n",
       "\n",
       "    .dataframe tbody tr th {\n",
       "        vertical-align: top;\n",
       "    }\n",
       "\n",
       "    .dataframe thead th {\n",
       "        text-align: right;\n",
       "    }\n",
       "</style>\n",
       "<table border=\"1\" class=\"dataframe\">\n",
       "  <thead>\n",
       "    <tr style=\"text-align: right;\">\n",
       "      <th></th>\n",
       "      <th>Unnamed: 0</th>\n",
       "      <th>Rural_Urban</th>\n",
       "      <th>Area</th>\n",
       "      <th>School_Name</th>\n",
       "      <th>Medium</th>\n",
       "      <th>School_Status</th>\n",
       "      <th>Category_Code</th>\n",
       "      <th>Category_Name</th>\n",
       "      <th>School_Type_Code</th>\n",
       "      <th>School_Type_Name</th>\n",
       "    </tr>\n",
       "  </thead>\n",
       "  <tbody>\n",
       "    <tr>\n",
       "      <th>0</th>\n",
       "      <td>0</td>\n",
       "      <td>Urban</td>\n",
       "      <td>AUNDH GAON</td>\n",
       "      <td>P. M. C. 54 B</td>\n",
       "      <td>4</td>\n",
       "      <td>Operational</td>\n",
       "      <td>1</td>\n",
       "      <td>Primary</td>\n",
       "      <td>3</td>\n",
       "      <td>Co-Education</td>\n",
       "    </tr>\n",
       "    <tr>\n",
       "      <th>1</th>\n",
       "      <td>1</td>\n",
       "      <td>Urban</td>\n",
       "      <td>AUNDH GAON</td>\n",
       "      <td>P. M. C. 42 G</td>\n",
       "      <td>4</td>\n",
       "      <td>Operational</td>\n",
       "      <td>2</td>\n",
       "      <td>Primary with Upper Primary</td>\n",
       "      <td>2</td>\n",
       "      <td>Girls</td>\n",
       "    </tr>\n",
       "    <tr>\n",
       "      <th>2</th>\n",
       "      <td>2</td>\n",
       "      <td>Urban</td>\n",
       "      <td>AUNDH GAON</td>\n",
       "      <td>P. M. C. 87  B</td>\n",
       "      <td>4</td>\n",
       "      <td>Operational</td>\n",
       "      <td>2</td>\n",
       "      <td>Primary with Upper Primary</td>\n",
       "      <td>1</td>\n",
       "      <td>Boys</td>\n",
       "    </tr>\n",
       "    <tr>\n",
       "      <th>3</th>\n",
       "      <td>3</td>\n",
       "      <td>Urban</td>\n",
       "      <td>AUNDH GAON</td>\n",
       "      <td>PMC 54 B ENG</td>\n",
       "      <td>0</td>\n",
       "      <td>Operational</td>\n",
       "      <td>1</td>\n",
       "      <td>Primary</td>\n",
       "      <td>3</td>\n",
       "      <td>Co-Education</td>\n",
       "    </tr>\n",
       "    <tr>\n",
       "      <th>4</th>\n",
       "      <td>4</td>\n",
       "      <td>Urban</td>\n",
       "      <td>AUNDH GAON</td>\n",
       "      <td>RAYAT SHIKSHAN SANSTHA PRI.</td>\n",
       "      <td>4</td>\n",
       "      <td>Operational</td>\n",
       "      <td>1</td>\n",
       "      <td>Primary</td>\n",
       "      <td>3</td>\n",
       "      <td>Co-Education</td>\n",
       "    </tr>\n",
       "  </tbody>\n",
       "</table>\n",
       "</div>"
      ],
      "text/plain": [
       "   Unnamed: 0 Rural_Urban        Area                  School_Name  Medium  \\\n",
       "0           0       Urban  AUNDH GAON                P. M. C. 54 B       4   \n",
       "1           1       Urban  AUNDH GAON                P. M. C. 42 G       4   \n",
       "2           2       Urban  AUNDH GAON               P. M. C. 87  B       4   \n",
       "3           3       Urban  AUNDH GAON                 PMC 54 B ENG       0   \n",
       "4           4       Urban  AUNDH GAON  RAYAT SHIKSHAN SANSTHA PRI.       4   \n",
       "\n",
       "  School_Status  Category_Code               Category_Name  School_Type_Code  \\\n",
       "0   Operational              1                     Primary                 3   \n",
       "1   Operational              2  Primary with Upper Primary                 2   \n",
       "2   Operational              2  Primary with Upper Primary                 1   \n",
       "3   Operational              1                     Primary                 3   \n",
       "4   Operational              1                     Primary                 3   \n",
       "\n",
       "  School_Type_Name  \n",
       "0     Co-Education  \n",
       "1            Girls  \n",
       "2             Boys  \n",
       "3     Co-Education  \n",
       "4     Co-Education  "
      ]
     },
     "execution_count": 4,
     "metadata": {},
     "output_type": "execute_result"
    }
   ],
   "source": [
    "dataset.head()"
   ]
  },
  {
   "cell_type": "code",
   "execution_count": 5,
   "metadata": {},
   "outputs": [],
   "source": [
    "grouped = dataset.groupby('Medium')"
   ]
  },
  {
   "cell_type": "markdown",
   "metadata": {},
   "source": [
    "---"
   ]
  },
  {
   "cell_type": "code",
   "execution_count": 6,
   "metadata": {},
   "outputs": [],
   "source": [
    "eng_schools = grouped.get_group(0)"
   ]
  },
  {
   "cell_type": "code",
   "execution_count": 7,
   "metadata": {},
   "outputs": [],
   "source": [
    "df_eng = eng_schools[\"Area\"].value_counts()"
   ]
  },
  {
   "cell_type": "code",
   "execution_count": 8,
   "metadata": {},
   "outputs": [],
   "source": [
    "df_eng = df_eng.to_frame().reset_index().rename(columns={\"Area\":\"no. of Schools\",\"index\":\"Area\"})"
   ]
  },
  {
   "cell_type": "code",
   "execution_count": 25,
   "metadata": {},
   "outputs": [],
   "source": [
    "top_df_eng = df_eng.head()"
   ]
  },
  {
   "cell_type": "code",
   "execution_count": 26,
   "metadata": {},
   "outputs": [
    {
     "data": {
      "text/html": [
       "<div>\n",
       "<style scoped>\n",
       "    .dataframe tbody tr th:only-of-type {\n",
       "        vertical-align: middle;\n",
       "    }\n",
       "\n",
       "    .dataframe tbody tr th {\n",
       "        vertical-align: top;\n",
       "    }\n",
       "\n",
       "    .dataframe thead th {\n",
       "        text-align: right;\n",
       "    }\n",
       "</style>\n",
       "<table border=\"1\" class=\"dataframe\">\n",
       "  <thead>\n",
       "    <tr style=\"text-align: right;\">\n",
       "      <th></th>\n",
       "      <th>Area</th>\n",
       "      <th>no. of Schools</th>\n",
       "    </tr>\n",
       "  </thead>\n",
       "  <tbody>\n",
       "    <tr>\n",
       "      <th>0</th>\n",
       "      <td>DHANORI</td>\n",
       "      <td>110</td>\n",
       "    </tr>\n",
       "    <tr>\n",
       "      <th>1</th>\n",
       "      <td>MITHA NAGAR</td>\n",
       "      <td>106</td>\n",
       "    </tr>\n",
       "    <tr>\n",
       "      <th>2</th>\n",
       "      <td>KATRAJ</td>\n",
       "      <td>92</td>\n",
       "    </tr>\n",
       "    <tr>\n",
       "      <th>3</th>\n",
       "      <td>POPULARNAGAR WARJE</td>\n",
       "      <td>89</td>\n",
       "    </tr>\n",
       "    <tr>\n",
       "      <th>4</th>\n",
       "      <td>RAILWAY STATION</td>\n",
       "      <td>78</td>\n",
       "    </tr>\n",
       "  </tbody>\n",
       "</table>\n",
       "</div>"
      ],
      "text/plain": [
       "                 Area  no. of Schools\n",
       "0             DHANORI             110\n",
       "1         MITHA NAGAR             106\n",
       "2              KATRAJ              92\n",
       "3  POPULARNAGAR WARJE              89\n",
       "4     RAILWAY STATION              78"
      ]
     },
     "execution_count": 26,
     "metadata": {},
     "output_type": "execute_result"
    }
   ],
   "source": [
    "top_df_eng"
   ]
  },
  {
   "cell_type": "code",
   "execution_count": 37,
   "metadata": {},
   "outputs": [
    {
     "data": {
      "image/png": "[encoded data removed]",
      "text/plain": [
       "<Figure size 1008x504 with 1 Axes>"
      ]
     },
     "metadata": {
      "needs_background": "light"
     },
     "output_type": "display_data"
    }
   ],
   "source": [
    "plt.figure(figsize=(14,7))\n",
    "plt.bar(top_df_eng[\"Area\"],top_df_eng[\"no. of Schools\"])\n",
    "plt.title(\"Top 5 areas with Highest English Schools\")\n",
    "plt.xlabel(\"Areas\")\n",
    "plt.ylabel(\"Number of Schools\")\n",
    "plt.savefig('English_schools.png')"
   ]
  },
  {
   "cell_type": "markdown",
   "metadata": {},
   "source": [
    "---"
   ]
  },
  {
   "cell_type": "code",
   "execution_count": 10,
   "metadata": {},
   "outputs": [],
   "source": [
    "guj_schools = grouped.get_group(1)"
   ]
  },
  {
   "cell_type": "code",
   "execution_count": 39,
   "metadata": {},
   "outputs": [],
   "source": [
    "df_guj = guj_schools[\"Area\"].value_counts()\n",
    "df_guj = df_guj.to_frame().reset_index().rename(columns={\"Area\":\"no. of Schools\",\"index\":\"Area\"})"
   ]
  },
  {
   "cell_type": "code",
   "execution_count": 52,
   "metadata": {
    "scrolled": true
   },
   "outputs": [
    {
     "data": {
      "text/html": [
       "<div>\n",
       "<style scoped>\n",
       "    .dataframe tbody tr th:only-of-type {\n",
       "        vertical-align: middle;\n",
       "    }\n",
       "\n",
       "    .dataframe tbody tr th {\n",
       "        vertical-align: top;\n",
       "    }\n",
       "\n",
       "    .dataframe thead th {\n",
       "        text-align: right;\n",
       "    }\n",
       "</style>\n",
       "<table border=\"1\" class=\"dataframe\">\n",
       "  <thead>\n",
       "    <tr style=\"text-align: right;\">\n",
       "      <th></th>\n",
       "      <th>Area</th>\n",
       "      <th>no. of Schools</th>\n",
       "    </tr>\n",
       "  </thead>\n",
       "  <tbody>\n",
       "    <tr>\n",
       "      <th>0</th>\n",
       "      <td>CITY POST GADIKHANA</td>\n",
       "      <td>10</td>\n",
       "    </tr>\n",
       "    <tr>\n",
       "      <th>1</th>\n",
       "      <td>KASBA GANPATI</td>\n",
       "      <td>10</td>\n",
       "    </tr>\n",
       "  </tbody>\n",
       "</table>\n",
       "</div>"
      ],
      "text/plain": [
       "                  Area  no. of Schools\n",
       "0  CITY POST GADIKHANA              10\n",
       "1        KASBA GANPATI              10"
      ]
     },
     "execution_count": 52,
     "metadata": {},
     "output_type": "execute_result"
    }
   ],
   "source": [
    "df_guj"
   ]
  },
  {
   "cell_type": "code",
   "execution_count": 58,
   "metadata": {},
   "outputs": [
    {
     "data": {
      "image/png": "[encoded data removed]",
      "text/plain": [
       "<Figure size 360x432 with 1 Axes>"
      ]
     },
     "metadata": {
      "needs_background": "light"
     },
     "output_type": "display_data"
    }
   ],
   "source": [
    "plt.figure(figsize=(5,6))\n",
    "plt.bar(df_guj[\"Area\"],df_guj[\"no. of Schools\"])\n",
    "plt.title(\"Gujrati Schools\")\n",
    "plt.xlabel(\"Areas\")\n",
    "plt.ylabel(\"Number of Schools\")\n",
    "plt.savefig('Gujrati_schools.png')"
   ]
  },
  {
   "cell_type": "markdown",
   "metadata": {},
   "source": [
    "------------------------"
   ]
  },
  {
   "cell_type": "code",
   "execution_count": 42,
   "metadata": {},
   "outputs": [],
   "source": [
    "hindi_schools = grouped.get_group(2)\n",
    "df_hindi = hindi_schools[\"Area\"].value_counts()\n",
    "df_hindi = df_hindi.to_frame().reset_index().rename(columns={\"Area\":\"no. of Schools\",\"index\":\"Area\"})"
   ]
  },
  {
   "cell_type": "code",
   "execution_count": 43,
   "metadata": {},
   "outputs": [
    {
     "data": {
      "text/html": [
       "<div>\n",
       "<style scoped>\n",
       "    .dataframe tbody tr th:only-of-type {\n",
       "        vertical-align: middle;\n",
       "    }\n",
       "\n",
       "    .dataframe tbody tr th {\n",
       "        vertical-align: top;\n",
       "    }\n",
       "\n",
       "    .dataframe thead th {\n",
       "        text-align: right;\n",
       "    }\n",
       "</style>\n",
       "<table border=\"1\" class=\"dataframe\">\n",
       "  <thead>\n",
       "    <tr style=\"text-align: right;\">\n",
       "      <th></th>\n",
       "      <th>Area</th>\n",
       "      <th>no. of Schools</th>\n",
       "    </tr>\n",
       "  </thead>\n",
       "  <tbody>\n",
       "    <tr>\n",
       "      <th>0</th>\n",
       "      <td>DOKE TALIM RAMOSHI GATE</td>\n",
       "      <td>19</td>\n",
       "    </tr>\n",
       "    <tr>\n",
       "      <th>1</th>\n",
       "      <td>HARKA NAGAR RAJEWADI</td>\n",
       "      <td>10</td>\n",
       "    </tr>\n",
       "    <tr>\n",
       "      <th>2</th>\n",
       "      <td>W. S. SAINATHNAGAR</td>\n",
       "      <td>6</td>\n",
       "    </tr>\n",
       "    <tr>\n",
       "      <th>3</th>\n",
       "      <td>KOREGAON PARK</td>\n",
       "      <td>4</td>\n",
       "    </tr>\n",
       "  </tbody>\n",
       "</table>\n",
       "</div>"
      ],
      "text/plain": [
       "                      Area  no. of Schools\n",
       "0  DOKE TALIM RAMOSHI GATE              19\n",
       "1     HARKA NAGAR RAJEWADI              10\n",
       "2       W. S. SAINATHNAGAR               6\n",
       "3            KOREGAON PARK               4"
      ]
     },
     "execution_count": 43,
     "metadata": {},
     "output_type": "execute_result"
    }
   ],
   "source": [
    "df_hindi"
   ]
  },
  {
   "cell_type": "code",
   "execution_count": 69,
   "metadata": {},
   "outputs": [
    {
     "data": {
      "image/png": "[encoded data removed]",
      "text/plain": [
       "<Figure size 1200x500 with 1 Axes>"
      ]
     },
     "metadata": {
      "needs_background": "light"
     },
     "output_type": "display_data"
    }
   ],
   "source": [
    "plt.figure(figsize=(12,5), dpi = 100)\n",
    "plt.bar(df_hindi[\"Area\"],df_hindi[\"no. of Schools\"])\n",
    "plt.title(\"Hindi Medium Schools\")\n",
    "plt.xlabel(\"Areas\")\n",
    "plt.ylabel(\"Number of Schools\")\n",
    "plt.savefig('Hindi_schools.png')"
   ]
  },
  {
   "cell_type": "markdown",
   "metadata": {},
   "source": [
    "-------------"
   ]
  },
  {
   "cell_type": "code",
   "execution_count": 44,
   "metadata": {},
   "outputs": [],
   "source": [
    "kan_schools = grouped.get_group(3)\n",
    "df_kan = kan_schools[\"Area\"].value_counts()\n",
    "df_kan = df_kan.to_frame().reset_index().rename(columns={\"Area\":\"no. of Schools\",\"index\":\"Area\"})"
   ]
  },
  {
   "cell_type": "code",
   "execution_count": 45,
   "metadata": {},
   "outputs": [
    {
     "data": {
      "text/html": [
       "<div>\n",
       "<style scoped>\n",
       "    .dataframe tbody tr th:only-of-type {\n",
       "        vertical-align: middle;\n",
       "    }\n",
       "\n",
       "    .dataframe tbody tr th {\n",
       "        vertical-align: top;\n",
       "    }\n",
       "\n",
       "    .dataframe thead th {\n",
       "        text-align: right;\n",
       "    }\n",
       "</style>\n",
       "<table border=\"1\" class=\"dataframe\">\n",
       "  <thead>\n",
       "    <tr style=\"text-align: right;\">\n",
       "      <th></th>\n",
       "      <th>Area</th>\n",
       "      <th>no. of Schools</th>\n",
       "    </tr>\n",
       "  </thead>\n",
       "  <tbody>\n",
       "    <tr>\n",
       "      <th>0</th>\n",
       "      <td>PANDAVNAGAR</td>\n",
       "      <td>5</td>\n",
       "    </tr>\n",
       "    <tr>\n",
       "      <th>1</th>\n",
       "      <td>PRABHAT ROAD</td>\n",
       "      <td>5</td>\n",
       "    </tr>\n",
       "    <tr>\n",
       "      <th>2</th>\n",
       "      <td>RAILWAY STATION</td>\n",
       "      <td>5</td>\n",
       "    </tr>\n",
       "    <tr>\n",
       "      <th>3</th>\n",
       "      <td>BOPODI</td>\n",
       "      <td>1</td>\n",
       "    </tr>\n",
       "  </tbody>\n",
       "</table>\n",
       "</div>"
      ],
      "text/plain": [
       "              Area  no. of Schools\n",
       "0      PANDAVNAGAR               5\n",
       "1     PRABHAT ROAD               5\n",
       "2  RAILWAY STATION               5\n",
       "3           BOPODI               1"
      ]
     },
     "execution_count": 45,
     "metadata": {},
     "output_type": "execute_result"
    }
   ],
   "source": [
    "df_kan"
   ]
  },
  {
   "cell_type": "code",
   "execution_count": 68,
   "metadata": {},
   "outputs": [
    {
     "data": {
      "image/png": "[encoded data removed]",
      "text/plain": [
       "<Figure size 1000x500 with 1 Axes>"
      ]
     },
     "metadata": {
      "needs_background": "light"
     },
     "output_type": "display_data"
    }
   ],
   "source": [
    "plt.figure(figsize=(10,5), dpi = 100)\n",
    "plt.bar(df_kan[\"Area\"],df_kan[\"no. of Schools\"])\n",
    "plt.title(\"Kanada Medium Schools\")\n",
    "plt.xlabel(\"Areas\")\n",
    "plt.ylabel(\"Number of Schools\")\n",
    "plt.savefig('Kanada_schools.png')"
   ]
  },
  {
   "cell_type": "markdown",
   "metadata": {},
   "source": [
    "---"
   ]
  },
  {
   "cell_type": "code",
   "execution_count": 46,
   "metadata": {},
   "outputs": [],
   "source": [
    "marathi_schools = grouped.get_group(4)\n",
    "df_marathi = marathi_schools[\"Area\"].value_counts()\n",
    "df_marathi = df_marathi.to_frame().reset_index().rename(columns={\"Area\":\"no. of Schools\",\"index\":\"Area\"})"
   ]
  },
  {
   "cell_type": "code",
   "execution_count": 67,
   "metadata": {},
   "outputs": [],
   "source": [
    "top_df_marathi=df_marathi.head()"
   ]
  },
  {
   "cell_type": "code",
   "execution_count": 73,
   "metadata": {},
   "outputs": [
    {
     "data": {
      "image/png": "[encoded data removed]",
      "text/plain": [
       "<Figure size 1600x500 with 1 Axes>"
      ]
     },
     "metadata": {
      "needs_background": "light"
     },
     "output_type": "display_data"
    }
   ],
   "source": [
    "plt.figure(figsize=(16,5), dpi = 100)\n",
    "plt.bar(top_df_marathi[\"Area\"],top_df_marathi[\"no. of Schools\"])\n",
    "plt.title(\"Top 5 areas with most number of Marathi Medium Schools\")\n",
    "plt.xlabel(\"Areas\")\n",
    "plt.ylabel(\"Number of Schools\")\n",
    "plt.savefig('Marathi_schools.png')"
   ]
  },
  {
   "cell_type": "markdown",
   "metadata": {},
   "source": [
    "---"
   ]
  },
  {
   "cell_type": "code",
   "execution_count": 48,
   "metadata": {},
   "outputs": [],
   "source": [
    "tamil_schools = grouped.get_group(5)\n",
    "df_tamil = tamil_schools[\"Area\"].value_counts()\n",
    "df_tamil = df_tamil.to_frame().reset_index().rename(columns={\"Area\":\"no. of Schools\",\"index\":\"Area\"})"
   ]
  },
  {
   "cell_type": "code",
   "execution_count": 49,
   "metadata": {
    "scrolled": true
   },
   "outputs": [
    {
     "data": {
      "text/html": [
       "<div>\n",
       "<style scoped>\n",
       "    .dataframe tbody tr th:only-of-type {\n",
       "        vertical-align: middle;\n",
       "    }\n",
       "\n",
       "    .dataframe tbody tr th {\n",
       "        vertical-align: top;\n",
       "    }\n",
       "\n",
       "    .dataframe thead th {\n",
       "        text-align: right;\n",
       "    }\n",
       "</style>\n",
       "<table border=\"1\" class=\"dataframe\">\n",
       "  <thead>\n",
       "    <tr style=\"text-align: right;\">\n",
       "      <th></th>\n",
       "      <th>Area</th>\n",
       "      <th>no. of Schools</th>\n",
       "    </tr>\n",
       "  </thead>\n",
       "  <tbody>\n",
       "    <tr>\n",
       "      <th>0</th>\n",
       "      <td>K.E.M. HOSPITAL</td>\n",
       "      <td>5</td>\n",
       "    </tr>\n",
       "  </tbody>\n",
       "</table>\n",
       "</div>"
      ],
      "text/plain": [
       "              Area  no. of Schools\n",
       "0  K.E.M. HOSPITAL               5"
      ]
     },
     "execution_count": 49,
     "metadata": {},
     "output_type": "execute_result"
    }
   ],
   "source": [
    "df_tamil"
   ]
  },
  {
   "cell_type": "code",
   "execution_count": 77,
   "metadata": {},
   "outputs": [
    {
     "data": {
      "image/png": "[encoded data removed]",
      "text/plain": [
       "<Figure size 200x300 with 1 Axes>"
      ]
     },
     "metadata": {
      "needs_background": "light"
     },
     "output_type": "display_data"
    }
   ],
   "source": [
    "plt.figure(figsize=(2,3), dpi = 100)\n",
    "plt.bar(df_tamil[\"Area\"],df_tamil[\"no. of Schools\"])\n",
    "plt.title(\"Tamil Medium Schools\")\n",
    "plt.xlabel(\"Areas\")\n",
    "plt.ylabel(\"Number of Schools\")\n",
    "plt.savefig('tamil_schools.png')"
   ]
  },
  {
   "cell_type": "markdown",
   "metadata": {},
   "source": [
    "---"
   ]
  },
  {
   "cell_type": "code",
   "execution_count": 50,
   "metadata": {},
   "outputs": [],
   "source": [
    "urdu_schools = grouped.get_group(6)\n",
    "df_urdu = urdu_schools[\"Area\"].value_counts()\n",
    "df_urdu = df_urdu.to_frame().reset_index().rename(columns={\"Area\":\"no. of Schools\",\"index\":\"Area\"})"
   ]
  },
  {
   "cell_type": "code",
   "execution_count": 78,
   "metadata": {
    "scrolled": true
   },
   "outputs": [],
   "source": [
    "top_df_urdu = df_urdu.head()"
   ]
  },
  {
   "cell_type": "markdown",
   "metadata": {},
   "source": [
    "---"
   ]
  },
  {
   "cell_type": "code",
   "execution_count": 81,
   "metadata": {},
   "outputs": [
    {
     "data": {
      "image/png": "[encoded data removed]",
      "text/plain": [
       "<Figure size 1000x500 with 1 Axes>"
      ]
     },
     "metadata": {
      "needs_background": "light"
     },
     "output_type": "display_data"
    }
   ],
   "source": [
    "plt.figure(figsize=(10,5), dpi = 100)\n",
    "plt.bar(top_df_urdu[\"Area\"],top_df_urdu[\"no. of Schools\"])\n",
    "plt.title(\"Urdu Medium Schools\")\n",
    "plt.xlabel(\"Areas\")\n",
    "plt.ylabel(\"Number of Schools\")\n",
    "plt.savefig('urdu_schools.png')"
   ]
  },
  {
   "cell_type": "code",
   "execution_count": null,
   "metadata": {},
   "outputs": [],
   "source": []
  },
  {
   "cell_type": "code",
   "execution_count": null,
   "metadata": {},
   "outputs": [],
   "source": []
  }
 ],
 "metadata": {
  "kernelspec": {
   "display_name": "Python 3",
   "language": "python",
   "name": "python3"
  },
  "language_info": {
   "codemirror_mode": {
    "name": "ipython",
    "version": 3
   },
   "file_extension": ".py",
   "mimetype": "text/x-python",
   "name": "python",
   "nbconvert_exporter": "python",
   "pygments_lexer": "ipython3",
   "version": "3.7.3"
  }
 },
 "nbformat": 4,
 "nbformat_minor": 2
}
